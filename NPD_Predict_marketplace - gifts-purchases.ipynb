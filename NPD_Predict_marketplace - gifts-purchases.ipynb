{
 "cells": [
  {
   "cell_type": "markdown",
   "id": "ee2e0b49",
   "metadata": {},
   "source": [
    "# Предсказание следующей покупки в течении следующих 30 дней."
   ]
  },
  {
   "cell_type": "markdown",
   "id": "cb69fec3",
   "metadata": {},
   "source": [
    "<img src=\"https://marketoonist.com/wp-content/uploads/2024/02/240212.n.search.jpg\" width=\"500\" align=\"right\"/> Удержание клиентов имеет решающее значение для успеха на жестоком рынке. Удержание текущих потребителей более рентабельно, чем приобретение новых.\n",
    "\n",
    "Удержание клиентов приводит к появлению преданной клиентуры, увеличению доходов и долгосрочной прибыльности. Однако ряд факторов, в том числе экономические условия, конкуренция и тенденции моды, затрудняют прогнозирование поведения и предпочтений клиентов. \n",
    "\n",
    "Предприятиям необходимы сложные возможности машинного обучения и анализа данных для анализа потребительских данных и составления точных прогнозов для решения этих проблем. \n",
    "\n",
    "Предприятия могут корректировать маркетинговые усилия, улучшать качество обслуживания клиентов и повышать уровень счастья, предвидя следующие покупки своих потребителей, что в конечном итоге повысит их удержание и лояльность."
   ]
  },
  {
   "cell_type": "markdown",
   "id": "b4df20f2",
   "metadata": {},
   "source": [
    "## Настройка проекта."
   ]
  },
  {
   "cell_type": "markdown",
   "id": "87f748bc",
   "metadata": {},
   "source": [
    "### Импорт библиотек, модулей, классов и функций."
   ]
  },
  {
   "cell_type": "code",
   "execution_count": 1,
   "id": "61ba5d75",
   "metadata": {},
   "outputs": [],
   "source": [
    "import os\n",
    "from pathlib import Path\n",
    "from datetime import timedelta\n",
    "\n",
    "import pandas as pd\n",
    "import numpy as np\n",
    "import matplotlib.pyplot as plt\n",
    "\n",
    "from catboost import CatBoostClassifier\n",
    "\n",
    "from sklearn.model_selection import cross_validate, train_test_split\n",
    "from sklearn.ensemble import GradientBoostingClassifier\n",
    "from sklearn.metrics import (\n",
    "    accuracy_score,\n",
    "    average_precision_score,\n",
    "    confusion_matrix,\n",
    "    precision_recall_curve,\n",
    "    roc_auc_score,\n",
    "    roc_curve,\n",
    "    ConfusionMatrixDisplay\n",
    ")"
   ]
  },
  {
   "cell_type": "markdown",
   "id": "7ffac379",
   "metadata": {},
   "source": [
    "### Настройка окружения и глобальные переменные."
   ]
  },
  {
   "cell_type": "code",
   "execution_count": 2,
   "id": "4ee6ee3c",
   "metadata": {},
   "outputs": [],
   "source": [
    "RANDOM_STATE = 42"
   ]
  },
  {
   "cell_type": "code",
   "execution_count": 3,
   "id": "c1b56240",
   "metadata": {},
   "outputs": [],
   "source": [
    "plt.style.use('default')"
   ]
  },
  {
   "cell_type": "markdown",
   "id": "649a0c33",
   "metadata": {},
   "source": [
    "### Пользовательские функции."
   ]
  },
  {
   "cell_type": "code",
   "execution_count": 4,
   "id": "82db7957",
   "metadata": {},
   "outputs": [],
   "source": [
    "def my_analyze_classification_performance(model=None, dummy=None, target=None, features=None):\n",
    "    '''\n",
    "    Функция предназначена для анализа производительности моделей классификации,\n",
    "    включая построение ROC-кривой и кривой точности и полноты.\n",
    "    Она также поддерживает сравнение с dummy моделью, если она предоставлена.\n",
    "    '''\n",
    "        \n",
    "    # Получаем имя модели (закомментированная строка с оригинальной версии кода)\n",
    "    model_name = 'CatBoostClassifier'  #model.__class__.__name\n",
    "\n",
    "    # Вычисляем вероятности прогнозов целевой переменной\n",
    "    target_train_pred_prob = model.predict_proba(features)[:, 1]\n",
    "    \n",
    "    # Вычисляем ROC-кривую и AUC-ROC\n",
    "    fpr, tpr, thresholds = roc_curve(target, target_train_pred_prob)\n",
    "    auc_roc = roc_auc_score(target, target_train_pred_prob)\n",
    "\n",
    "    # Если есть dummy модель, то вычисляем ее вероятности и метрики ROC и AUC\n",
    "    if dummy is not None:\n",
    "        target_train_pred_prob_dummy = dummy.predict_proba(features)[:, 1]\n",
    "        fpr_dummy, tpr_dummy, thresholds_dummy = roc_curve(target, target_train_pred_prob_dummy)\n",
    "        auc_roc_dummy = roc_auc_score(target, target_train_pred_prob_dummy)\n",
    "\n",
    "    # Создаем график с двумя подграфиками\n",
    "    fig, ax = plt.subplots(nrows=1, ncols=2, figsize=(10, 5))\n",
    "    fig.suptitle(f'Производительность модели классификации {model_name}')\n",
    "\n",
    "    # График ROC-кривой\n",
    "    ax[0].plot(fpr, tpr, color='SteelBlue', label='ROC Curve')\n",
    "    if dummy is not None:\n",
    "        ax[0].plot(fpr_dummy, tpr_dummy, '--', color='DarkRed', label=('Dummy ' + dummy.strategy))\n",
    "    else:\n",
    "        ax[0].plot([0, 1], [0, 1], '--', color='DarkRed', label='Random Guess')\n",
    "    ax[0].legend(loc='lower right')\n",
    "    if dummy is not None:\n",
    "        ax[0].set_title(f'ROC curve (AUC = {auc_roc:.3f})\\nDummy {dummy.strategy} AUC = {auc_roc_dummy:.3f}')\n",
    "    else:\n",
    "        ax[0].set_title(f'ROC curve (AUC = {auc_roc:.3f})')\n",
    "    ax[0].set_xlabel('False Positive Rate')\n",
    "    ax[0].set_ylabel('True Positive Rate')\n",
    "    ax[0].grid(True)\n",
    "\n",
    "    # График кривой точности и полноты\n",
    "    precision, recall, thresholds = precision_recall_curve(target, target_train_pred_prob)\n",
    "    auc_pr = average_precision_score(target, target_train_pred_prob)\n",
    "\n",
    "    # Если есть dummy модель, то вычисляем ее кривую точности и полноты, а также AUC\n",
    "    if dummy is not None:\n",
    "        precision_dummy, recall_dummy, thresholds_dummy = precision_recall_curve(target, target_train_pred_prob_dummy)\n",
    "        auc_pr_dummy = average_precision_score(target, target_train_pred_prob_dummy)\n",
    "\n",
    "    ax[1].plot(recall, precision, color='SteelBlue', label='Precision-Recall Curve')\n",
    "    if dummy is not None:\n",
    "        ax[1].plot(recall_dummy, precision_dummy, '--', color='DarkRed', label=('Dummy ' + dummy.strategy))\n",
    "    else:\n",
    "        ax[1].plot([0, 1], [1, 0], '--', color='DarkRed', label='Random Guess')\n",
    "    ax[1].legend(loc='lower left')\n",
    "    if dummy is not None:\n",
    "        ax[1].set_title(f'Precision-Recall curve (AUC = {auc_pr:.3f})\\nDummy {dummy.strategy} AUC = {auc_pr_dummy:.3f}')\n",
    "    else:\n",
    "        ax[1].set_title(f'Precision-Recall curve (AUC = {auc_pr:.3f})')\n",
    "    ax[1].set_xlabel('Recall')\n",
    "    ax[1].set_ylabel('Precision')\n",
    "    ax[1].grid(True)\n",
    "\n",
    "    # Отображаем графики\n",
    "    plt.tight_layout()\n",
    "    plt.show()"
   ]
  },
  {
   "cell_type": "markdown",
   "id": "ae182ca1",
   "metadata": {},
   "source": [
    "## Загрузка данных."
   ]
  },
  {
   "cell_type": "code",
   "execution_count": 5,
   "id": "e1a922f7",
   "metadata": {},
   "outputs": [],
   "source": [
    "gifts_purchases = pd.read_csv(\n",
    "    r'data\\gifts-purchases.csv',\n",
    "    parse_dates=['date', 'date'],\n",
    "    dtype={'client_id': 'object'},\n",
    ")"
   ]
  },
  {
   "cell_type": "markdown",
   "id": "dd4a13df",
   "metadata": {},
   "source": [
    "### Анализ."
   ]
  },
  {
   "cell_type": "code",
   "execution_count": 6,
   "id": "49bdff59",
   "metadata": {
    "scrolled": false
   },
   "outputs": [
    {
     "name": "stdout",
     "output_type": "stream",
     "text": [
      "<class 'pandas.core.frame.DataFrame'>\n",
      "RangeIndex: 811 entries, 0 to 810\n",
      "Data columns (total 6 columns):\n",
      " #   Column          Non-Null Count  Dtype         \n",
      "---  ------          --------------  -----         \n",
      " 0   client_id       811 non-null    object        \n",
      " 1   quantity        811 non-null    int64         \n",
      " 2   price           811 non-null    float64       \n",
      " 3   date            811 non-null    datetime64[ns]\n",
      " 4   message_id      811 non-null    object        \n",
      " 5   recommended_by  811 non-null    object        \n",
      "dtypes: datetime64[ns](1), float64(1), int64(1), object(3)\n",
      "memory usage: 38.1+ KB\n"
     ]
    }
   ],
   "source": [
    "gifts_purchases.info()"
   ]
  },
  {
   "cell_type": "code",
   "execution_count": 7,
   "id": "6cab3e3e",
   "metadata": {},
   "outputs": [
    {
     "data": {
      "text/html": [
       "<div>\n",
       "<style scoped>\n",
       "    .dataframe tbody tr th:only-of-type {\n",
       "        vertical-align: middle;\n",
       "    }\n",
       "\n",
       "    .dataframe tbody tr th {\n",
       "        vertical-align: top;\n",
       "    }\n",
       "\n",
       "    .dataframe thead th {\n",
       "        text-align: right;\n",
       "    }\n",
       "</style>\n",
       "<table border=\"1\" class=\"dataframe\">\n",
       "  <thead>\n",
       "    <tr style=\"text-align: right;\">\n",
       "      <th></th>\n",
       "      <th>client_id</th>\n",
       "      <th>quantity</th>\n",
       "      <th>price</th>\n",
       "      <th>date</th>\n",
       "      <th>message_id</th>\n",
       "      <th>recommended_by</th>\n",
       "    </tr>\n",
       "  </thead>\n",
       "  <tbody>\n",
       "    <tr>\n",
       "      <th>0</th>\n",
       "      <td>1515915625803894158</td>\n",
       "      <td>1</td>\n",
       "      <td>8943.0</td>\n",
       "      <td>2023-10-11</td>\n",
       "      <td>1515915625935652010-16166-6525589bca68f</td>\n",
       "      <td>bulk_message</td>\n",
       "    </tr>\n",
       "    <tr>\n",
       "      <th>1</th>\n",
       "      <td>1515915625803894158</td>\n",
       "      <td>1</td>\n",
       "      <td>46369.0</td>\n",
       "      <td>2023-10-11</td>\n",
       "      <td>1515915625935652010-16166-6525589bca68f</td>\n",
       "      <td>bulk_message</td>\n",
       "    </tr>\n",
       "    <tr>\n",
       "      <th>2</th>\n",
       "      <td>1515915625803894158</td>\n",
       "      <td>1</td>\n",
       "      <td>4666.0</td>\n",
       "      <td>2023-10-11</td>\n",
       "      <td>1515915625935652010-16166-6525589bca68f</td>\n",
       "      <td>bulk_message</td>\n",
       "    </tr>\n",
       "    <tr>\n",
       "      <th>3</th>\n",
       "      <td>1515915625803894158</td>\n",
       "      <td>1</td>\n",
       "      <td>11963.0</td>\n",
       "      <td>2023-10-11</td>\n",
       "      <td>1515915625935652010-16166-6525589bca68f</td>\n",
       "      <td>bulk_message</td>\n",
       "    </tr>\n",
       "    <tr>\n",
       "      <th>4</th>\n",
       "      <td>1515915625803894158</td>\n",
       "      <td>1</td>\n",
       "      <td>13107.0</td>\n",
       "      <td>2023-10-11</td>\n",
       "      <td>1515915625935652010-16166-6525589bca68f</td>\n",
       "      <td>bulk_message</td>\n",
       "    </tr>\n",
       "  </tbody>\n",
       "</table>\n",
       "</div>"
      ],
      "text/plain": [
       "             client_id  quantity    price       date  \\\n",
       "0  1515915625803894158         1   8943.0 2023-10-11   \n",
       "1  1515915625803894158         1  46369.0 2023-10-11   \n",
       "2  1515915625803894158         1   4666.0 2023-10-11   \n",
       "3  1515915625803894158         1  11963.0 2023-10-11   \n",
       "4  1515915625803894158         1  13107.0 2023-10-11   \n",
       "\n",
       "                                message_id recommended_by  \n",
       "0  1515915625935652010-16166-6525589bca68f   bulk_message  \n",
       "1  1515915625935652010-16166-6525589bca68f   bulk_message  \n",
       "2  1515915625935652010-16166-6525589bca68f   bulk_message  \n",
       "3  1515915625935652010-16166-6525589bca68f   bulk_message  \n",
       "4  1515915625935652010-16166-6525589bca68f   bulk_message  "
      ]
     },
     "execution_count": 7,
     "metadata": {},
     "output_type": "execute_result"
    }
   ],
   "source": [
    "gifts_purchases.head()"
   ]
  },
  {
   "cell_type": "code",
   "execution_count": 8,
   "id": "25a0586f",
   "metadata": {},
   "outputs": [
    {
     "data": {
      "text/html": [
       "<div>\n",
       "<style scoped>\n",
       "    .dataframe tbody tr th:only-of-type {\n",
       "        vertical-align: middle;\n",
       "    }\n",
       "\n",
       "    .dataframe tbody tr th {\n",
       "        vertical-align: top;\n",
       "    }\n",
       "\n",
       "    .dataframe thead th {\n",
       "        text-align: right;\n",
       "    }\n",
       "</style>\n",
       "<table border=\"1\" class=\"dataframe\">\n",
       "  <thead>\n",
       "    <tr style=\"text-align: right;\">\n",
       "      <th></th>\n",
       "      <th>client_id</th>\n",
       "      <th>quantity</th>\n",
       "      <th>price</th>\n",
       "      <th>date</th>\n",
       "      <th>message_id</th>\n",
       "      <th>recommended_by</th>\n",
       "    </tr>\n",
       "  </thead>\n",
       "  <tbody>\n",
       "    <tr>\n",
       "      <th>count</th>\n",
       "      <td>811</td>\n",
       "      <td>811.000000</td>\n",
       "      <td>811.000000</td>\n",
       "      <td>811</td>\n",
       "      <td>811</td>\n",
       "      <td>811</td>\n",
       "    </tr>\n",
       "    <tr>\n",
       "      <th>unique</th>\n",
       "      <td>326</td>\n",
       "      <td>NaN</td>\n",
       "      <td>NaN</td>\n",
       "      <td>NaN</td>\n",
       "      <td>342</td>\n",
       "      <td>1</td>\n",
       "    </tr>\n",
       "    <tr>\n",
       "      <th>top</th>\n",
       "      <td>1515915625803894158</td>\n",
       "      <td>NaN</td>\n",
       "      <td>NaN</td>\n",
       "      <td>NaN</td>\n",
       "      <td>1515915625935652010-16166-6525589bca68f</td>\n",
       "      <td>bulk_message</td>\n",
       "    </tr>\n",
       "    <tr>\n",
       "      <th>freq</th>\n",
       "      <td>49</td>\n",
       "      <td>NaN</td>\n",
       "      <td>NaN</td>\n",
       "      <td>NaN</td>\n",
       "      <td>22</td>\n",
       "      <td>811</td>\n",
       "    </tr>\n",
       "    <tr>\n",
       "      <th>mean</th>\n",
       "      <td>NaN</td>\n",
       "      <td>1.003699</td>\n",
       "      <td>14468.795314</td>\n",
       "      <td>2023-04-27 23:45:47.718865664</td>\n",
       "      <td>NaN</td>\n",
       "      <td>NaN</td>\n",
       "    </tr>\n",
       "    <tr>\n",
       "      <th>min</th>\n",
       "      <td>NaN</td>\n",
       "      <td>1.000000</td>\n",
       "      <td>656.000000</td>\n",
       "      <td>2022-10-26 00:00:00</td>\n",
       "      <td>NaN</td>\n",
       "      <td>NaN</td>\n",
       "    </tr>\n",
       "    <tr>\n",
       "      <th>25%</th>\n",
       "      <td>NaN</td>\n",
       "      <td>1.000000</td>\n",
       "      <td>3878.000000</td>\n",
       "      <td>2023-01-31 00:00:00</td>\n",
       "      <td>NaN</td>\n",
       "      <td>NaN</td>\n",
       "    </tr>\n",
       "    <tr>\n",
       "      <th>50%</th>\n",
       "      <td>NaN</td>\n",
       "      <td>1.000000</td>\n",
       "      <td>7533.000000</td>\n",
       "      <td>2023-05-22 00:00:00</td>\n",
       "      <td>NaN</td>\n",
       "      <td>NaN</td>\n",
       "    </tr>\n",
       "    <tr>\n",
       "      <th>75%</th>\n",
       "      <td>NaN</td>\n",
       "      <td>1.000000</td>\n",
       "      <td>17938.000000</td>\n",
       "      <td>2023-07-12 00:00:00</td>\n",
       "      <td>NaN</td>\n",
       "      <td>NaN</td>\n",
       "    </tr>\n",
       "    <tr>\n",
       "      <th>max</th>\n",
       "      <td>NaN</td>\n",
       "      <td>2.000000</td>\n",
       "      <td>173586.000000</td>\n",
       "      <td>2023-10-24 00:00:00</td>\n",
       "      <td>NaN</td>\n",
       "      <td>NaN</td>\n",
       "    </tr>\n",
       "    <tr>\n",
       "      <th>std</th>\n",
       "      <td>NaN</td>\n",
       "      <td>0.060745</td>\n",
       "      <td>17774.341837</td>\n",
       "      <td>NaN</td>\n",
       "      <td>NaN</td>\n",
       "      <td>NaN</td>\n",
       "    </tr>\n",
       "  </tbody>\n",
       "</table>\n",
       "</div>"
      ],
      "text/plain": [
       "                  client_id    quantity          price  \\\n",
       "count                   811  811.000000     811.000000   \n",
       "unique                  326         NaN            NaN   \n",
       "top     1515915625803894158         NaN            NaN   \n",
       "freq                     49         NaN            NaN   \n",
       "mean                    NaN    1.003699   14468.795314   \n",
       "min                     NaN    1.000000     656.000000   \n",
       "25%                     NaN    1.000000    3878.000000   \n",
       "50%                     NaN    1.000000    7533.000000   \n",
       "75%                     NaN    1.000000   17938.000000   \n",
       "max                     NaN    2.000000  173586.000000   \n",
       "std                     NaN    0.060745   17774.341837   \n",
       "\n",
       "                                 date  \\\n",
       "count                             811   \n",
       "unique                            NaN   \n",
       "top                               NaN   \n",
       "freq                              NaN   \n",
       "mean    2023-04-27 23:45:47.718865664   \n",
       "min               2022-10-26 00:00:00   \n",
       "25%               2023-01-31 00:00:00   \n",
       "50%               2023-05-22 00:00:00   \n",
       "75%               2023-07-12 00:00:00   \n",
       "max               2023-10-24 00:00:00   \n",
       "std                               NaN   \n",
       "\n",
       "                                     message_id recommended_by  \n",
       "count                                       811            811  \n",
       "unique                                      342              1  \n",
       "top     1515915625935652010-16166-6525589bca68f   bulk_message  \n",
       "freq                                         22            811  \n",
       "mean                                        NaN            NaN  \n",
       "min                                         NaN            NaN  \n",
       "25%                                         NaN            NaN  \n",
       "50%                                         NaN            NaN  \n",
       "75%                                         NaN            NaN  \n",
       "max                                         NaN            NaN  \n",
       "std                                         NaN            NaN  "
      ]
     },
     "execution_count": 8,
     "metadata": {},
     "output_type": "execute_result"
    }
   ],
   "source": [
    "gifts_purchases.describe(include='all')"
   ]
  },
  {
   "cell_type": "markdown",
   "id": "d8b5f7cd",
   "metadata": {},
   "source": [
    "### Удаление неинформативтивных признаков."
   ]
  },
  {
   "cell_type": "code",
   "execution_count": 9,
   "id": "109fac27",
   "metadata": {},
   "outputs": [],
   "source": [
    "gifts_purchases.drop(['message_id', 'recommended_by'], axis=1, inplace=True)"
   ]
  },
  {
   "cell_type": "markdown",
   "id": "9ba0bac9",
   "metadata": {},
   "source": [
    "### Сортировка данных."
   ]
  },
  {
   "cell_type": "code",
   "execution_count": 10,
   "id": "f2b4630a",
   "metadata": {},
   "outputs": [],
   "source": [
    "gifts_purchases = gifts_purchases.sort_values(\n",
    "    by=['date', 'client_id']\n",
    ").reset_index(drop=True)"
   ]
  },
  {
   "cell_type": "code",
   "execution_count": 11,
   "id": "36cdb7f6",
   "metadata": {},
   "outputs": [
    {
     "data": {
      "text/html": [
       "<div>\n",
       "<style scoped>\n",
       "    .dataframe tbody tr th:only-of-type {\n",
       "        vertical-align: middle;\n",
       "    }\n",
       "\n",
       "    .dataframe tbody tr th {\n",
       "        vertical-align: top;\n",
       "    }\n",
       "\n",
       "    .dataframe thead th {\n",
       "        text-align: right;\n",
       "    }\n",
       "</style>\n",
       "<table border=\"1\" class=\"dataframe\">\n",
       "  <thead>\n",
       "    <tr style=\"text-align: right;\">\n",
       "      <th></th>\n",
       "      <th>client_id</th>\n",
       "      <th>quantity</th>\n",
       "      <th>price</th>\n",
       "      <th>date</th>\n",
       "    </tr>\n",
       "  </thead>\n",
       "  <tbody>\n",
       "    <tr>\n",
       "      <th>0</th>\n",
       "      <td>1515915625857065470</td>\n",
       "      <td>1</td>\n",
       "      <td>59990.0</td>\n",
       "      <td>2022-10-26</td>\n",
       "    </tr>\n",
       "    <tr>\n",
       "      <th>1</th>\n",
       "      <td>1515915625857065470</td>\n",
       "      <td>1</td>\n",
       "      <td>54040.0</td>\n",
       "      <td>2022-10-26</td>\n",
       "    </tr>\n",
       "    <tr>\n",
       "      <th>2</th>\n",
       "      <td>1515915625857065470</td>\n",
       "      <td>1</td>\n",
       "      <td>36720.0</td>\n",
       "      <td>2022-10-26</td>\n",
       "    </tr>\n",
       "    <tr>\n",
       "      <th>3</th>\n",
       "      <td>1515915625857065470</td>\n",
       "      <td>1</td>\n",
       "      <td>12513.0</td>\n",
       "      <td>2022-10-26</td>\n",
       "    </tr>\n",
       "    <tr>\n",
       "      <th>4</th>\n",
       "      <td>1515915625857065470</td>\n",
       "      <td>1</td>\n",
       "      <td>11505.0</td>\n",
       "      <td>2022-10-26</td>\n",
       "    </tr>\n",
       "  </tbody>\n",
       "</table>\n",
       "</div>"
      ],
      "text/plain": [
       "             client_id  quantity    price       date\n",
       "0  1515915625857065470         1  59990.0 2022-10-26\n",
       "1  1515915625857065470         1  54040.0 2022-10-26\n",
       "2  1515915625857065470         1  36720.0 2022-10-26\n",
       "3  1515915625857065470         1  12513.0 2022-10-26\n",
       "4  1515915625857065470         1  11505.0 2022-10-26"
      ]
     },
     "execution_count": 11,
     "metadata": {},
     "output_type": "execute_result"
    }
   ],
   "source": [
    "gifts_purchases.head()"
   ]
  },
  {
   "cell_type": "markdown",
   "id": "7aa03419",
   "metadata": {},
   "source": [
    "## Простая генерация фичей и таргета."
   ]
  },
  {
   "cell_type": "markdown",
   "id": "beb8aadc",
   "metadata": {},
   "source": [
    "### Простое сумирование по дню и клиенту."
   ]
  },
  {
   "cell_type": "code",
   "execution_count": 12,
   "id": "4655a139",
   "metadata": {},
   "outputs": [],
   "source": [
    "per_client_purchases = gifts_purchases.groupby(\n",
    "    ['client_id', 'date']\n",
    ").agg({'price': 'sum'}).reset_index()"
   ]
  },
  {
   "cell_type": "markdown",
   "id": "4a586021",
   "metadata": {},
   "source": [
    "### Созание целевого признака в виде последних 30 дней."
   ]
  },
  {
   "cell_type": "markdown",
   "id": "c90e3d4f",
   "metadata": {},
   "source": [
    "Выделяем последний месяц."
   ]
  },
  {
   "cell_type": "code",
   "execution_count": 13,
   "id": "0faf2458",
   "metadata": {},
   "outputs": [],
   "source": [
    "last_30th = per_client_purchases['date'].max() - timedelta(days=30)"
   ]
  },
  {
   "cell_type": "code",
   "execution_count": 14,
   "id": "50fc55d8",
   "metadata": {},
   "outputs": [],
   "source": [
    "purchases_test = per_client_purchases[per_client_purchases['date'] < last_30th]\n",
    "purchases_holdout = per_client_purchases[per_client_purchases['date'] >= last_30th]"
   ]
  },
  {
   "cell_type": "code",
   "execution_count": 15,
   "id": "80df71f5",
   "metadata": {},
   "outputs": [],
   "source": [
    "purchase_true = purchases_holdout['client_id'].unique()"
   ]
  },
  {
   "cell_type": "markdown",
   "id": "455bc690",
   "metadata": {},
   "source": [
    "### Генерация дополнительных признаков."
   ]
  },
  {
   "cell_type": "markdown",
   "id": "edca3630",
   "metadata": {},
   "source": [
    "Будем генерировать самые простые из возможных признаков."
   ]
  },
  {
   "cell_type": "code",
   "execution_count": 16,
   "id": "bd5739e3",
   "metadata": {},
   "outputs": [],
   "source": [
    "feature_matrix = purchases_test.groupby(\n",
    "    'client_id'\n",
    ").agg({'date': 'max', 'price': ['sum', 'count']}).reset_index()"
   ]
  },
  {
   "cell_type": "code",
   "execution_count": 17,
   "id": "63ce05ba",
   "metadata": {},
   "outputs": [
    {
     "data": {
      "text/html": [
       "<div>\n",
       "<style scoped>\n",
       "    .dataframe tbody tr th:only-of-type {\n",
       "        vertical-align: middle;\n",
       "    }\n",
       "\n",
       "    .dataframe tbody tr th {\n",
       "        vertical-align: top;\n",
       "    }\n",
       "\n",
       "    .dataframe thead tr th {\n",
       "        text-align: left;\n",
       "    }\n",
       "</style>\n",
       "<table border=\"1\" class=\"dataframe\">\n",
       "  <thead>\n",
       "    <tr>\n",
       "      <th></th>\n",
       "      <th>client_id</th>\n",
       "      <th>date</th>\n",
       "      <th colspan=\"2\" halign=\"left\">price</th>\n",
       "    </tr>\n",
       "    <tr>\n",
       "      <th></th>\n",
       "      <th></th>\n",
       "      <th>max</th>\n",
       "      <th>sum</th>\n",
       "      <th>count</th>\n",
       "    </tr>\n",
       "  </thead>\n",
       "  <tbody>\n",
       "    <tr>\n",
       "      <th>0</th>\n",
       "      <td>1515915625803180506</td>\n",
       "      <td>2023-06-27</td>\n",
       "      <td>33961.0</td>\n",
       "      <td>1</td>\n",
       "    </tr>\n",
       "    <tr>\n",
       "      <th>1</th>\n",
       "      <td>1515915625803180756</td>\n",
       "      <td>2023-03-01</td>\n",
       "      <td>5990.0</td>\n",
       "      <td>1</td>\n",
       "    </tr>\n",
       "    <tr>\n",
       "      <th>2</th>\n",
       "      <td>1515915625803180771</td>\n",
       "      <td>2023-06-16</td>\n",
       "      <td>4824.0</td>\n",
       "      <td>1</td>\n",
       "    </tr>\n",
       "    <tr>\n",
       "      <th>3</th>\n",
       "      <td>1515915625803180879</td>\n",
       "      <td>2023-06-29</td>\n",
       "      <td>43152.0</td>\n",
       "      <td>1</td>\n",
       "    </tr>\n",
       "    <tr>\n",
       "      <th>4</th>\n",
       "      <td>1515915625803207150</td>\n",
       "      <td>2023-02-25</td>\n",
       "      <td>5980.0</td>\n",
       "      <td>1</td>\n",
       "    </tr>\n",
       "  </tbody>\n",
       "</table>\n",
       "</div>"
      ],
      "text/plain": [
       "             client_id       date    price      \n",
       "                              max      sum count\n",
       "0  1515915625803180506 2023-06-27  33961.0     1\n",
       "1  1515915625803180756 2023-03-01   5990.0     1\n",
       "2  1515915625803180771 2023-06-16   4824.0     1\n",
       "3  1515915625803180879 2023-06-29  43152.0     1\n",
       "4  1515915625803207150 2023-02-25   5980.0     1"
      ]
     },
     "execution_count": 17,
     "metadata": {},
     "output_type": "execute_result"
    }
   ],
   "source": [
    "feature_matrix.head()"
   ]
  },
  {
   "cell_type": "markdown",
   "id": "23bda5b0",
   "metadata": {},
   "source": [
    "Для удобства приведём названия фичей к плоскому виду."
   ]
  },
  {
   "cell_type": "code",
   "execution_count": 18,
   "id": "788ce23d",
   "metadata": {},
   "outputs": [],
   "source": [
    "feature_matrix.columns = ['client_id', 'max_date', 'sum_total', 'count']"
   ]
  },
  {
   "cell_type": "code",
   "execution_count": 19,
   "id": "24c71280",
   "metadata": {},
   "outputs": [
    {
     "data": {
      "text/html": [
       "<div>\n",
       "<style scoped>\n",
       "    .dataframe tbody tr th:only-of-type {\n",
       "        vertical-align: middle;\n",
       "    }\n",
       "\n",
       "    .dataframe tbody tr th {\n",
       "        vertical-align: top;\n",
       "    }\n",
       "\n",
       "    .dataframe thead th {\n",
       "        text-align: right;\n",
       "    }\n",
       "</style>\n",
       "<table border=\"1\" class=\"dataframe\">\n",
       "  <thead>\n",
       "    <tr style=\"text-align: right;\">\n",
       "      <th></th>\n",
       "      <th>client_id</th>\n",
       "      <th>max_date</th>\n",
       "      <th>sum_total</th>\n",
       "      <th>count</th>\n",
       "    </tr>\n",
       "  </thead>\n",
       "  <tbody>\n",
       "    <tr>\n",
       "      <th>0</th>\n",
       "      <td>1515915625803180506</td>\n",
       "      <td>2023-06-27</td>\n",
       "      <td>33961.0</td>\n",
       "      <td>1</td>\n",
       "    </tr>\n",
       "    <tr>\n",
       "      <th>1</th>\n",
       "      <td>1515915625803180756</td>\n",
       "      <td>2023-03-01</td>\n",
       "      <td>5990.0</td>\n",
       "      <td>1</td>\n",
       "    </tr>\n",
       "    <tr>\n",
       "      <th>2</th>\n",
       "      <td>1515915625803180771</td>\n",
       "      <td>2023-06-16</td>\n",
       "      <td>4824.0</td>\n",
       "      <td>1</td>\n",
       "    </tr>\n",
       "    <tr>\n",
       "      <th>3</th>\n",
       "      <td>1515915625803180879</td>\n",
       "      <td>2023-06-29</td>\n",
       "      <td>43152.0</td>\n",
       "      <td>1</td>\n",
       "    </tr>\n",
       "    <tr>\n",
       "      <th>4</th>\n",
       "      <td>1515915625803207150</td>\n",
       "      <td>2023-02-25</td>\n",
       "      <td>5980.0</td>\n",
       "      <td>1</td>\n",
       "    </tr>\n",
       "  </tbody>\n",
       "</table>\n",
       "</div>"
      ],
      "text/plain": [
       "             client_id   max_date  sum_total  count\n",
       "0  1515915625803180506 2023-06-27    33961.0      1\n",
       "1  1515915625803180756 2023-03-01     5990.0      1\n",
       "2  1515915625803180771 2023-06-16     4824.0      1\n",
       "3  1515915625803180879 2023-06-29    43152.0      1\n",
       "4  1515915625803207150 2023-02-25     5980.0      1"
      ]
     },
     "execution_count": 19,
     "metadata": {},
     "output_type": "execute_result"
    }
   ],
   "source": [
    "feature_matrix.head()"
   ]
  },
  {
   "cell_type": "code",
   "execution_count": 20,
   "id": "578ef00e",
   "metadata": {},
   "outputs": [],
   "source": [
    "feature_matrix['target'] = feature_matrix['client_id'].isin(purchase_true).astype(int)"
   ]
  },
  {
   "cell_type": "code",
   "execution_count": 21,
   "id": "1eb441ee",
   "metadata": {},
   "outputs": [
    {
     "data": {
      "text/html": [
       "<div>\n",
       "<style scoped>\n",
       "    .dataframe tbody tr th:only-of-type {\n",
       "        vertical-align: middle;\n",
       "    }\n",
       "\n",
       "    .dataframe tbody tr th {\n",
       "        vertical-align: top;\n",
       "    }\n",
       "\n",
       "    .dataframe thead th {\n",
       "        text-align: right;\n",
       "    }\n",
       "</style>\n",
       "<table border=\"1\" class=\"dataframe\">\n",
       "  <thead>\n",
       "    <tr style=\"text-align: right;\">\n",
       "      <th></th>\n",
       "      <th>client_id</th>\n",
       "      <th>max_date</th>\n",
       "      <th>sum_total</th>\n",
       "      <th>count</th>\n",
       "      <th>target</th>\n",
       "    </tr>\n",
       "  </thead>\n",
       "  <tbody>\n",
       "    <tr>\n",
       "      <th>0</th>\n",
       "      <td>1515915625803180506</td>\n",
       "      <td>2023-06-27</td>\n",
       "      <td>33961.0</td>\n",
       "      <td>1</td>\n",
       "      <td>0</td>\n",
       "    </tr>\n",
       "    <tr>\n",
       "      <th>1</th>\n",
       "      <td>1515915625803180756</td>\n",
       "      <td>2023-03-01</td>\n",
       "      <td>5990.0</td>\n",
       "      <td>1</td>\n",
       "      <td>0</td>\n",
       "    </tr>\n",
       "    <tr>\n",
       "      <th>2</th>\n",
       "      <td>1515915625803180771</td>\n",
       "      <td>2023-06-16</td>\n",
       "      <td>4824.0</td>\n",
       "      <td>1</td>\n",
       "      <td>0</td>\n",
       "    </tr>\n",
       "    <tr>\n",
       "      <th>3</th>\n",
       "      <td>1515915625803180879</td>\n",
       "      <td>2023-06-29</td>\n",
       "      <td>43152.0</td>\n",
       "      <td>1</td>\n",
       "      <td>0</td>\n",
       "    </tr>\n",
       "    <tr>\n",
       "      <th>4</th>\n",
       "      <td>1515915625803207150</td>\n",
       "      <td>2023-02-25</td>\n",
       "      <td>5980.0</td>\n",
       "      <td>1</td>\n",
       "      <td>0</td>\n",
       "    </tr>\n",
       "  </tbody>\n",
       "</table>\n",
       "</div>"
      ],
      "text/plain": [
       "             client_id   max_date  sum_total  count  target\n",
       "0  1515915625803180506 2023-06-27    33961.0      1       0\n",
       "1  1515915625803180756 2023-03-01     5990.0      1       0\n",
       "2  1515915625803180771 2023-06-16     4824.0      1       0\n",
       "3  1515915625803180879 2023-06-29    43152.0      1       0\n",
       "4  1515915625803207150 2023-02-25     5980.0      1       0"
      ]
     },
     "execution_count": 21,
     "metadata": {},
     "output_type": "execute_result"
    }
   ],
   "source": [
    "feature_matrix.head()"
   ]
  },
  {
   "cell_type": "code",
   "execution_count": 22,
   "id": "fc9c449c",
   "metadata": {},
   "outputs": [],
   "source": [
    "feature_matrix['diff'] = (feature_matrix['max_date'].max() - feature_matrix['max_date']).dt.days"
   ]
  },
  {
   "cell_type": "code",
   "execution_count": 23,
   "id": "469ed279",
   "metadata": {},
   "outputs": [
    {
     "data": {
      "text/html": [
       "<div>\n",
       "<style scoped>\n",
       "    .dataframe tbody tr th:only-of-type {\n",
       "        vertical-align: middle;\n",
       "    }\n",
       "\n",
       "    .dataframe tbody tr th {\n",
       "        vertical-align: top;\n",
       "    }\n",
       "\n",
       "    .dataframe thead th {\n",
       "        text-align: right;\n",
       "    }\n",
       "</style>\n",
       "<table border=\"1\" class=\"dataframe\">\n",
       "  <thead>\n",
       "    <tr style=\"text-align: right;\">\n",
       "      <th></th>\n",
       "      <th>client_id</th>\n",
       "      <th>max_date</th>\n",
       "      <th>sum_total</th>\n",
       "      <th>count</th>\n",
       "      <th>target</th>\n",
       "      <th>diff</th>\n",
       "    </tr>\n",
       "  </thead>\n",
       "  <tbody>\n",
       "    <tr>\n",
       "      <th>0</th>\n",
       "      <td>1515915625803180506</td>\n",
       "      <td>2023-06-27</td>\n",
       "      <td>33961.0</td>\n",
       "      <td>1</td>\n",
       "      <td>0</td>\n",
       "      <td>88</td>\n",
       "    </tr>\n",
       "    <tr>\n",
       "      <th>1</th>\n",
       "      <td>1515915625803180756</td>\n",
       "      <td>2023-03-01</td>\n",
       "      <td>5990.0</td>\n",
       "      <td>1</td>\n",
       "      <td>0</td>\n",
       "      <td>206</td>\n",
       "    </tr>\n",
       "    <tr>\n",
       "      <th>2</th>\n",
       "      <td>1515915625803180771</td>\n",
       "      <td>2023-06-16</td>\n",
       "      <td>4824.0</td>\n",
       "      <td>1</td>\n",
       "      <td>0</td>\n",
       "      <td>99</td>\n",
       "    </tr>\n",
       "    <tr>\n",
       "      <th>3</th>\n",
       "      <td>1515915625803180879</td>\n",
       "      <td>2023-06-29</td>\n",
       "      <td>43152.0</td>\n",
       "      <td>1</td>\n",
       "      <td>0</td>\n",
       "      <td>86</td>\n",
       "    </tr>\n",
       "    <tr>\n",
       "      <th>4</th>\n",
       "      <td>1515915625803207150</td>\n",
       "      <td>2023-02-25</td>\n",
       "      <td>5980.0</td>\n",
       "      <td>1</td>\n",
       "      <td>0</td>\n",
       "      <td>210</td>\n",
       "    </tr>\n",
       "  </tbody>\n",
       "</table>\n",
       "</div>"
      ],
      "text/plain": [
       "             client_id   max_date  sum_total  count  target  diff\n",
       "0  1515915625803180506 2023-06-27    33961.0      1       0    88\n",
       "1  1515915625803180756 2023-03-01     5990.0      1       0   206\n",
       "2  1515915625803180771 2023-06-16     4824.0      1       0    99\n",
       "3  1515915625803180879 2023-06-29    43152.0      1       0    86\n",
       "4  1515915625803207150 2023-02-25     5980.0      1       0   210"
      ]
     },
     "execution_count": 23,
     "metadata": {},
     "output_type": "execute_result"
    }
   ],
   "source": [
    "feature_matrix.head()"
   ]
  },
  {
   "cell_type": "markdown",
   "id": "f00c69c8",
   "metadata": {},
   "source": [
    "## Обучение и тестирование модели."
   ]
  },
  {
   "cell_type": "markdown",
   "id": "3e8d81bf",
   "metadata": {},
   "source": [
    "### Подготовка обучающего набора данных."
   ]
  },
  {
   "cell_type": "code",
   "execution_count": 24,
   "id": "fab8bb3d",
   "metadata": {},
   "outputs": [],
   "source": [
    "X = feature_matrix.drop(['client_id', 'max_date', 'target'], axis=1)\n",
    "y = feature_matrix['target']"
   ]
  },
  {
   "cell_type": "markdown",
   "id": "029f64a4",
   "metadata": {},
   "source": [
    "### Баланс классов."
   ]
  },
  {
   "cell_type": "code",
   "execution_count": 25,
   "id": "be90a3f3",
   "metadata": {},
   "outputs": [
    {
     "data": {
      "image/png": "[encoded data removed]",
      "text/plain": [
       "<Figure size 500x400 with 1 Axes>"
      ]
     },
     "metadata": {},
     "output_type": "display_data"
    }
   ],
   "source": [
    "plt.figure(figsize=(5, 4))\n",
    "y.value_counts(normalize=True).plot.bar(color='SteelBlue')\n",
    "plt.ylabel('Плотность')\n",
    "plt.title('Плотность распределения целевого признака')\n",
    "plt.xticks([0, 1], ['No purchase', 'Purchase'], rotation=0)\n",
    "plt.tight_layout()\n",
    "plt.show()"
   ]
  },
  {
   "cell_type": "markdown",
   "id": "75470591",
   "metadata": {},
   "source": [
    "### Кросс-валидация."
   ]
  },
  {
   "cell_type": "code",
   "execution_count": 26,
   "id": "222cd7c8",
   "metadata": {},
   "outputs": [
    {
     "name": "stderr",
     "output_type": "stream",
     "text": [
      "C:\\ProgramData\\anaconda3\\Lib\\site-packages\\sklearn\\model_selection\\_split.py:725: UserWarning: The least populated class in y has only 4 members, which is less than n_splits=5.\n",
      "  warnings.warn(\n"
     ]
    },
    {
     "data": {
      "text/plain": [
       "{'fit_time': array([3.34967804, 3.22401309, 3.25792146, 3.2599318 , 2.73736596]),\n",
       " 'score_time': array([0.01894736, 0.01994753, 0.01795363, 0.03589106, 0.00896478]),\n",
       " 'test_roc_auc': array([0.96721311, 0.78688525, 0.36065574,        nan, 0.85      ]),\n",
       " 'test_recall': array([0., 0., 0., 0., 0.]),\n",
       " 'test_f1': array([0., 0., 0., 0., 0.])}"
      ]
     },
     "execution_count": 26,
     "metadata": {},
     "output_type": "execute_result"
    }
   ],
   "source": [
    "cross_validate(\n",
    "    CatBoostClassifier(logging_level='Silent', random_state=RANDOM_STATE),\n",
    "    X, y,\n",
    "    n_jobs=-1,\n",
    "    scoring=['roc_auc', 'recall', 'f1']\n",
    ")"
   ]
  },
  {
   "cell_type": "markdown",
   "id": "a23aeb57",
   "metadata": {},
   "source": [
    "### Feature importance."
   ]
  },
  {
   "cell_type": "code",
   "execution_count": 27,
   "id": "d16843c1",
   "metadata": {},
   "outputs": [],
   "source": [
    "X_train, X_test, y_train, y_test = train_test_split(\n",
    "    X, y,\n",
    "    test_size=0.25,\n",
    "    random_state=RANDOM_STATE\n",
    ")"
   ]
  },
  {
   "cell_type": "code",
   "execution_count": 28,
   "id": "55f87201",
   "metadata": {},
   "outputs": [],
   "source": [
    "catboost_model = CatBoostClassifier(logging_level='Silent', random_state=RANDOM_STATE)"
   ]
  },
  {
   "cell_type": "code",
   "execution_count": 29,
   "id": "6625d6fb",
   "metadata": {},
   "outputs": [
    {
     "data": {
      "text/plain": [
       "<catboost.core.CatBoostClassifier at 0x2d91d8fb310>"
      ]
     },
     "execution_count": 29,
     "metadata": {},
     "output_type": "execute_result"
    }
   ],
   "source": [
    "catboost_model.fit(X_train, y_train)"
   ]
  },
  {
   "cell_type": "code",
   "execution_count": 30,
   "id": "6c03ea38",
   "metadata": {},
   "outputs": [
    {
     "data": {
      "image/png": "[encoded data removed]",
      "text/plain": [
       "<Figure size 400x200 with 1 Axes>"
      ]
     },
     "metadata": {},
     "output_type": "display_data"
    }
   ],
   "source": [
    "plt.figure(figsize=(4, 2))\n",
    "\n",
    "pd.Series(\n",
    "    index=catboost_model.feature_names_,\n",
    "    data=catboost_model.feature_importances_\n",
    ").sort_values().plot(kind='barh', color='SteelBlue')\n",
    "\n",
    "plt.title('CatBoost Feature Importance')\n",
    "plt.show()"
   ]
  },
  {
   "cell_type": "markdown",
   "id": "e80f9d34",
   "metadata": {},
   "source": [
    "### Производительность модели."
   ]
  },
  {
   "cell_type": "code",
   "execution_count": 31,
   "id": "f8b43acc",
   "metadata": {
    "scrolled": false
   },
   "outputs": [
    {
     "data": {
      "image/png": "[encoded data removed]",
      "text/plain": [
       "<Figure size 1000x500 with 2 Axes>"
      ]
     },
     "metadata": {},
     "output_type": "display_data"
    }
   ],
   "source": [
    "my_analyze_classification_performance(model=catboost_model, target=y_test, features=X_test)"
   ]
  },
  {
   "cell_type": "code",
   "execution_count": 32,
   "id": "30099c5b",
   "metadata": {},
   "outputs": [
    {
     "data": {
      "image/png": "[encoded data removed]",
      "text/plain": [
       "<Figure size 1000x500 with 2 Axes>"
      ]
     },
     "metadata": {},
     "output_type": "display_data"
    }
   ],
   "source": [
    "fig, ax = plt.subplots(figsize=(10, 5))\n",
    "\n",
    "ConfusionMatrixDisplay.from_predictions(\n",
    "    y_test,\n",
    "    catboost_model.predict(X_test),\n",
    "    cmap='Blues',\n",
    "    ax=ax\n",
    ")\n",
    "\n",
    "ax.set_title(f'Confusion Matrix для модели {catboost_model}')\n",
    "plt.show()"
   ]
  },
  {
   "cell_type": "code",
   "execution_count": null,
   "id": "ba5bb237",
   "metadata": {},
   "outputs": [],
   "source": []
  }
 ],
 "metadata": {
  "kernelspec": {
   "display_name": "Python 3 (ipykernel)",
   "language": "python",
   "name": "python3"
  },
  "language_info": {
   "codemirror_mode": {
    "name": "ipython",
    "version": 3
   },
   "file_extension": ".py",
   "mimetype": "text/x-python",
   "name": "python",
   "nbconvert_exporter": "python",
   "pygments_lexer": "ipython3",
   "version": "3.11.5"
  },
  "toc": {
   "base_numbering": 1,
   "nav_menu": {},
   "number_sections": true,
   "sideBar": true,
   "skip_h1_title": true,
   "title_cell": "Table of Contents",
   "title_sidebar": "Contents",
   "toc_cell": false,
   "toc_position": {
    "height": "calc(100% - 180px)",
    "left": "10px",
    "top": "150px",
    "width": "218.438px"
   },
   "toc_section_display": true,
   "toc_window_display": true
  },
  "varInspector": {
   "cols": {
    "lenName": 16,
    "lenType": 16,
    "lenVar": 40
   },
   "kernels_config": {
    "python": {
     "delete_cmd_postfix": "",
     "delete_cmd_prefix": "del ",
     "library": "var_list.py",
     "varRefreshCmd": "print(var_dic_list())"
    },
    "r": {
     "delete_cmd_postfix": ") ",
     "delete_cmd_prefix": "rm(",
     "library": "var_list.r",
     "varRefreshCmd": "cat(var_dic_list()) "
    }
   },
   "types_to_exclude": [
    "module",
    "function",
    "builtin_function_or_method",
    "instance",
    "_Feature"
   ],
   "window_display": false
  }
 },
 "nbformat": 4,
 "nbformat_minor": 5
}
